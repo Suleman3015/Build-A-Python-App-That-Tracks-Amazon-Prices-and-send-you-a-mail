{
 "cells": [
  {
   "cell_type": "code",
   "execution_count": 61,
   "metadata": {},
   "outputs": [],
   "source": [
    "import requests\n",
    "from bs4 import BeautifulSoup\n",
    "import smtplib"
   ]
  },
  {
   "cell_type": "code",
   "execution_count": 62,
   "metadata": {},
   "outputs": [],
   "source": [
    "URL = 'https://www.amazon.com/Apple-iPhone-Verizon-Unlocked-256GB/dp/B07R71FSJR/ref=nav_ya_signin?srs=18637575011&ie=UTF8&qid=1566206565&sr=8-1&'"
   ]
  },
  {
   "cell_type": "code",
   "execution_count": 63,
   "metadata": {},
   "outputs": [],
   "source": [
    "headers = {\"user_agent\":'Mozilla/5.0 (Windows NT 10.0; Win64; x64) AppleWebKit/537.36 (KHTML, like Gecko) Chrome/76.0.3809.100 Safari/537.36'}"
   ]
  },
  {
   "cell_type": "code",
   "execution_count": 64,
   "metadata": {},
   "outputs": [
    {
     "name": "stdout",
     "output_type": "stream",
     "text": [
      "Apple iPhone 8, Verizon Unlocked, 256GB - Gray - (Renewed)\n",
      "$404.99\n"
     ]
    }
   ],
   "source": [
    "page = requests.get(URL, headers=headers)\n",
    "soup = BeautifulSoup(page.content,'html.parser')\n",
    "title = soup.find(id='productTitle').get_text()\n",
    "price= soup.find(id=\"priceblock_ourprice\").get_text()\n",
    "converted_price = (price[0:7])\n",
    "print(title.strip())\n",
    "print(converted_price)  "
   ]
  },
  {
   "cell_type": "code",
   "execution_count": 85,
   "metadata": {},
   "outputs": [],
   "source": [
    "def check_price():\n",
    "    page = requests.get(URL, headers=headers)\n",
    "    soup = BeautifulSoup(page.content,'html.parser')\n",
    "    title = soup.find(id='productTitle').get_text()\n",
    "    price= soup.find(id=\"priceblock_ourprice\").get_text()\n",
    "    converted_price = float(price[1:7])\n",
    "    if(converted_price <404.90):\n",
    "        send_mail()\n",
    "    print(title.strip())\n",
    "    print(converted_price)                        \n",
    "                            \n",
    "    if(converted_price < 403.99):\n",
    "        send_mail()"
   ]
  },
  {
   "cell_type": "code",
   "execution_count": 86,
   "metadata": {},
   "outputs": [
    {
     "name": "stdout",
     "output_type": "stream",
     "text": [
      "Apple iPhone 8, Verizon Unlocked, 256GB - Gray - (Renewed)\n",
      "404.99\n"
     ]
    }
   ],
   "source": [
    "\n",
    "def send_mail():\n",
    "    server = smtplib.SMTP('smtp.gmail.com',587)\n",
    "    server.ehlo()\n",
    "    server.starttls()\n",
    "    server.ehlo()\n",
    "    \n",
    "    server.login(\"zayn84041@gmail.com\",'nmmwohnhgfnlrowf')\n",
    "    subject = 'price fall down and check the link'\n",
    "    body = 'https://www.amazon.com/Apple-iPhone-Verizon-Unlocked-256GB/dp/B07R71FSJR/ref=nav_ya_signin?srs=18637575011&ie=UTF8&qid=1566206565&sr=8-1&'\n",
    "    msg = f\"Subject: {subject} {body}\"\n",
    "    \n",
    "    server.sendmail(\n",
    "       'zayn84041@gmail.com',\n",
    "        'zayn84041@gmail.com',\n",
    "        msg\n",
    "    )\n",
    "    print(\"hey email has been sent!\" )\n",
    "    \n",
    "    server.quit()\n",
    "    \n",
    "    \n",
    "    \n",
    "check_price()   \n",
    "    "
   ]
  },
  {
   "cell_type": "code",
   "execution_count": null,
   "metadata": {},
   "outputs": [],
   "source": []
  }
 ],
 "metadata": {
  "kernelspec": {
   "display_name": "Python 3",
   "language": "python",
   "name": "python3"
  },
  "language_info": {
   "codemirror_mode": {
    "name": "ipython",
    "version": 3
   },
   "file_extension": ".py",
   "mimetype": "text/x-python",
   "name": "python",
   "nbconvert_exporter": "python",
   "pygments_lexer": "ipython3",
   "version": "3.6.8"
  }
 },
 "nbformat": 4,
 "nbformat_minor": 2
}
